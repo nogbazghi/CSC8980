{
  "nbformat": 4,
  "nbformat_minor": 0,
  "metadata": {
    "colab": {
      "name": "HW1.ipynb",
      "provenance": [],
      "authorship_tag": "ABX9TyMXvbF3wnWdvIQXWVZNJ1p6",
      "include_colab_link": true
    },
    "kernelspec": {
      "name": "python3",
      "display_name": "Python 3"
    }
  },
  "cells": [
    {
      "cell_type": "markdown",
      "metadata": {
        "id": "view-in-github",
        "colab_type": "text"
      },
      "source": [
        "<a href=\"https://colab.research.google.com/github/nogbazghi/CSC8980/blob/main/HW1.ipynb\" target=\"_parent\"><img src=\"https://colab.research.google.com/assets/colab-badge.svg\" alt=\"Open In Colab\"/></a>"
      ]
    },
    {
      "cell_type": "markdown",
      "metadata": {
        "id": "dOocetkcURNt"
      },
      "source": [
        "Nahom Ogbazghi"
      ]
    },
    {
      "cell_type": "code",
      "metadata": {
        "id": "wEmuCM15ImGw"
      },
      "source": [
        "import re\r\n",
        "filePath = \"/content/hw_1-text.txt\"\r\n",
        "file = open(filePath, 'r')\r\n",
        "content = file.read()\r\n",
        "print(content)"
      ],
      "execution_count": null,
      "outputs": []
    },
    {
      "cell_type": "markdown",
      "metadata": {
        "id": "J2lC_DeiUTbr"
      },
      "source": [
        "1. Write a piece of code using a regular expression in Python to count how many times the following name appears: CICERO, this regex needs to be case-sensitive. (10 points)"
      ]
    },
    {
      "cell_type": "code",
      "metadata": {
        "colab": {
          "base_uri": "https://localhost:8080/"
        },
        "id": "KhYyG_MQVUc1",
        "outputId": "0f2734e8-0dd3-4771-8373-38022543dcb7"
      },
      "source": [
        "ciceroPattern = re.compile(\"CICERO\")\r\n",
        "findCicero = re.findall(ciceroPattern, content)\r\n",
        "print(\"CICERO appears: \",len(findCicero))"
      ],
      "execution_count": 14,
      "outputs": [
        {
          "output_type": "stream",
          "text": [
            "CICERO appears:  7\n"
          ],
          "name": "stdout"
        }
      ]
    },
    {
      "cell_type": "markdown",
      "metadata": {
        "id": "PVMZWEdSaIEN"
      },
      "source": [
        "2. Write a regular expression in Python that finds all 6 character words found in this play.\r\n",
        "(10 points)"
      ]
    },
    {
      "cell_type": "code",
      "metadata": {
        "colab": {
          "base_uri": "https://localhost:8080/"
        },
        "id": "7Km20lhNaPNk",
        "outputId": "34368f88-4b3a-4379-9679-25ccc4f33c3b"
      },
      "source": [
        "sixCharWords = re.compile(\"[a-zA-Z]{6}\")\r\n",
        "findSixCharWords = re.findall(sixCharWords, content)\r\n",
        "print(\"6 character words appears: \",len(findSixCharWords))"
      ],
      "execution_count": null,
      "outputs": [
        {
          "output_type": "stream",
          "text": [
            "6 character words appears:  4877\n"
          ],
          "name": "stdout"
        }
      ]
    },
    {
      "cell_type": "markdown",
      "metadata": {
        "id": "zKR2vKcQbiRV"
      },
      "source": [
        "3. Write a piece of code that uses a regular expression in Python to count how many\r\n",
        "words are capitalized in the first letter only. (20 points)\r\n"
      ]
    },
    {
      "cell_type": "code",
      "metadata": {
        "colab": {
          "base_uri": "https://localhost:8080/"
        },
        "id": "bIUgBTZSbrbZ",
        "outputId": "edbe0edc-a335-45ed-c131-22c439622398"
      },
      "source": [
        "firstLetterCap = re.compile(\"[A-Z][a-z]*\\s\")\r\n",
        "findFirstLetterCap = re.findall(firstLetterCap, content)\r\n",
        "print(\"Words with first letter capitalized appears: \",len(findFirstLetterCap))"
      ],
      "execution_count": 14,
      "outputs": [
        {
          "output_type": "stream",
          "text": [
            "['The ', 'Life ', 'Death ', 'Julius ', 'Caesar\\n', 'T ', 'I\\n', 'E ', 'A ', 'Enter ', 'Commoners\\n', 'S\\n', 'Is ', 'Being ', 'Upon ', 'Of ', 'First ', 'Commoner\\n', 'S\\n', 'Where ', 'What ', 'Second ', 'Commoner\\n', 'I ', 'S\\n', 'But ', 'Second ', 'Commoner\\n', 'A ', 'I ', 'I ', 'S\\n', 'What ', 'Second ', 'Commoner\\n', 'I ', 'I ', 'S\\n', 'What ', 'Second ', 'Commoner\\n', 'S\\n', 'Thou ', 'Second ', 'Commoner\\n', 'I ', 'I\\n', 'I ', 'I\\n', 'As ', 'S\\n', 'But ', 'Why ', 'Second ', 'Commoner\\n', 'Caesar ', 'S\\n', 'Wherefore ', 'What ', 'What ', 'To ', 'You ', 'O ', 'Knew ', 'Many ', 'Have ', 'To ', 'Your ', 'The ', 'To ', 'Pompey ', 'And ', 'Have ', 'That ', 'Tiber ', 'To ', 'Made ', 'And ', 'And ', 'And ', 'That ', 'Be ', 'Run ', 'Pray ', 'That ', 'S\\n', 'Assemble ', 'Draw ', 'Tiber ', 'Into ', 'Do ', 'Exeunt ', 'Commoners\\n', 'See ', 'They ', 'Go ', 'This ', 'I\\n', 'If ', 'S\\n', 'May ', 'You ', 'S\\n', 'It ', 'Be ', 'And ', 'So ', 'These ', 'Will ', 'Who ', 'And ', 'Exeunt\\n', 'E ', 'A ', 'Enter ', 'S ', 'Soothsayer\\n', 'R\\n', 'A\\n', 'Caesar ', 'R\\n', 'A\\n', 'R\\n', 'Stand ', 'When ', 'Y\\n', 'R\\n', 'Forget ', 'To ', 'The ', 'Shake ', 'Y\\n', 'I ', 'When ', 'Caesar ', 'R\\n', 'Set ', 'Flourish\\n', 'Soothsayer\\n', 'R\\n', 'A\\n', 'Bid ', 'R\\n', 'Who ', 'I ', 'Cry ', 'Caesar ', 'Soothsayer\\n', 'Beware ', 'R\\n', 'What ', 'S\\n', 'A ', 'R\\n', 'Set ', 'S\\n', 'R\\n', 'What ', 'Soothsayer\\n', 'Beware ', 'R\\n', 'He ', 'Exeunt ', 'S ', 'S\\n', 'S\\n', 'Will ', 'S\\n', 'Not ', 'S\\n', 'I ', 'S\\n', 'I ', 'I ', 'Of ', 'Let ', 'S\\n', 'I ', 'I ', 'And ', 'I ', 'You ', 'Over ', 'S\\n', 'Be ', 'I ', 'I ', 'Merely ', 'Vexed ', 'I ', 'Of ', 'Conceptions ', 'Which ', 'But ', 'Among ', 'Nor ', 'Than ', 'Forgets ', 'S\\n', 'I ', 'By ', 'Thoughts ', 'Tell ', 'S\\n', 'But ', 'S\\n', 'Tis ', 'And ', 'That ', 'Your ', 'That ', 'I ', 'Where ', 'Except ', 'Brutus\\n', 'And ', 'Have ', 'Brutus ', 'S\\n', 'Into ', 'That ', 'For ', 'S\\n', 'And ', 'So ', 'Will ', 'That ', 'And ', 'Were ', 'I ', 'To ', 'To ', 'That ', 'I ', 'And ', 'That ', 'I ', 'To ', 'S\\n', 'What ', 'I ', 'Choose ', 'Caesar ', 'S\\n', 'Then ', 'I ', 'S\\n', 'I ', 'I ', 'But ', 'What ', 'If ', 'Set ', 'And ', 'I ', 'For ', 'I ', 'The ', 'I ', 'S\\n', 'I ', 'As ', 'I ', 'I ', 'Think ', 'I ', 'In ', 'I ', 'I ', 'We ', 'Endure ', 'For ', 'The ', 'Tiber ', 'Caesar ', 'Darest ', 'Leap ', 'And ', 'Upon ', 'Accoutred ', 'I ', 'I ', 'And ', 'The ', 'With ', 'And ', 'But ', 'Caesar ', 'Help ', 'I ', 'Did ', 'Troy ', 'The ', 'Anchises ', 'Tiber\\n', 'Did ', 'I ', 'And ', 'Is ', 'Cassius ', 'A ', 'If ', 'Caesar ', 'He ', 'And ', 'I ', 'How ', 'His ', 'And ', 'Did ', 'I ', 'Romans\\n', 'Mark ', 'Give ', 'As ', 'Ye ', 'A ', 'So ', 'And ', 'Flourish\\n', 'S\\n', 'Another ', 'I ', 'For ', 'S\\n', 'Like ', 'Walk ', 'To ', 'Men ', 'The ', 'But ', 'Brutus ', 'Why ', 'Write ', 'Sound ', 'Weigh ', 'Brutus ', 'Upon ', 'Caesar ', 'That ', 'When ', 'But ', 'When ', 'That ', 'Now ', 'Rome ', 'When ', 'I ', 'There ', 'Brutus ', 'The ', 'Rome\\n', 'As ', 'S\\n', 'That ', 'I ', 'What ', 'I ', 'How ', 'I ', 'I ', 'I ', 'I ', 'Be ', 'What ', 'I ', 'I ', 'Both ', 'Till ', 'Brutus ', 'Than ', 'Rome\\n', 'Under ', 'Is ', 'S\\n', 'I ', 'Have ', 'S\\n', 'The ', 'Caesar ', 'S\\n', 'As ', 'Casca ', 'And ', 'What ', 'R ', 'Train\\n', 'S\\n', 'I ', 'The ', 'And ', 'Cicero\\n', 'Looks ', 'As ', 'Being ', 'S\\n', 'Casca ', 'R\\n', 'Y\\n', 'R\\n', 'Let ', 'Yond ', 'Cassius ', 'He ', 'Y\\n', 'Fear ', 'He ', 'Roman ', 'R\\n', 'Would ', 'But ', 'I ', 'Yet ', 'I ', 'I ', 'So ', 'He ', 'He ', 'Quite ', 'As ', 'Seldom ', 'As ', 'That ', 'Such ', 'Whiles ', 'And ', 'I ', 'Than ', 'I ', 'I ', 'Come ', 'And ', 'Exeunt ', 'R ', 'A\\n', 'A\\n', 'You ', 'S\\n', 'That ', 'Caesar ', 'A\\n', 'S\\n', 'I ', 'Casca ', 'A\\n', 'S\\n', 'What ', 'A\\n', 'S\\n', 'They ', 'A\\n', 'S\\n', 'Was ', 'A\\n', 'S\\n', 'Who ', 'A\\n', 'S\\n', 'Tell ', 'A\\n', 'I ', 'I ', 'I ', 'Mark\\n', 'Antony ', 'I ', 'Then ', 'And ', 'Caesar ', 'I ', 'S\\n', 'I ', 'Caesar ', 'A\\n', 'He ', 'S\\n', 'Tis ', 'S\\n', 'Caesar ', 'And ', 'A\\n', 'I ', 'I ', 'Caesar ', 'If ', 'I ', 'S\\n', 'What ', 'A\\n', 'An ', 'I ', 'I ', 'I ', 'I ', 'And ', 'When ', 'If ', 'Three\\n', 'I ', 'Caesar ', 'S\\n', 'And ', 'A\\n', 'S\\n', 'Did ', 'Cicero ', 'A\\n', 'S\\n', 'To ', 'A\\n', 'I ', 'Ill ', 'Greek ', 'I ', 'Marullus ', 'Fare ', 'There ', 'I ', 'S\\n', 'Will ', 'A\\n', 'I ', 'S\\n', 'Will ', 'A\\n', 'I ', 'S\\n', 'I ', 'A\\n', 'Do ', 'Exit\\n', 'S\\n', 'What ', 'He ', 'S\\n', 'So ', 'Of ', 'However ', 'This ', 'Which ', 'With ', 'S\\n', 'And ', 'For ', 'I ', 'I ', 'Come ', 'I ', 'S\\n', 'I ', 'Exit ', 'S\\n', 'I ', 'Thy ', 'From ', 'That ', 'For ', 'Caesar ', 'If ', 'I ', 'Brutus ', 'He ', 'I ', 'In ', 'As ', 'Writings ', 'That ', 'Rome ', 'And ', 'Caesar ', 'For ', 'Exit\\n', 'E ', 'The ', 'A ', 'Thunder ', 'Enter ', 'O\\n', 'O\\n', 'Good ', 'Caesar ', 'Why ', 'A\\n', 'Are ', 'Shakes ', 'O ', 'I ', 'Have ', 'I ', 'The ', 'To ', 'But ', 'Did ', 'I ', 'Either ', 'Or ', 'Incenses ', 'O\\n', 'A\\n', 'A ', 'Held ', 'Like ', 'Not ', 'I ', 'Against ', 'Capitol ', 'I ', 'Who ', 'Without ', 'Upon ', 'Transformed ', 'Men ', 'And ', 'Even ', 'Hooting ', 'When ', 'Do ', 'These ', 'I ', 'Unto ', 'O\\n', 'But ', 'Clean ', 'Come ', 'Caesar ', 'Capitol ', 'A\\n', 'He ', 'Antonius\\n', 'Send ', 'O\\n', 'Good ', 'Is ', 'A\\n', 'Exit ', 'O\\n', 'Enter ', 'S\\n', 'S\\n', 'A\\n', 'A ', 'S\\n', 'A\\n', 'Your ', 'S\\n', 'A ', 'A\\n', 'Who ', 'S\\n', 'Those ', 'For ', 'I ', 'Submitting ', 'Have ', 'And ', 'The ', 'I ', 'Even ', 'A\\n', 'But ', 'It ', 'When ', 'Such ', 'S\\n', 'You ', 'That ', 'Roman ', 'Or ', 'You ', 'And ', 'To ', 'But ', 'Why ', 'Why ', 'Why ', 'Why ', 'Their ', 'To ', 'That ', 'To ', 'Unto ', 'Now ', 'Most ', 'That ', 'As ', 'A ', 'In ', 'And ', 'A\\n', 'Tis ', 'Caesar ', 'S\\n', 'Let ', 'Romans ', 'Have ', 'And ', 'Our ', 'A\\n', 'Mean ', 'Caesar ', 'And ', 'In ', 'S\\n', 'I ', 'I ', 'Cassius ', 'Nor ', 'Nor ', 'Can ', 'But ', 'Never ', 'If ', 'I ', 'That ', 'I ', 'I ', 'Thunder ', 'A\\n', 'So ', 'So ', 'The ', 'S\\n', 'And ', 'Caesar ', 'Poor ', 'I ', 'But ', 'Romans ', 'He ', 'Romans ', 'Those ', 'Begin ', 'What ', 'For ', 'So ', 'O ', 'Where ', 'I ', 'Before ', 'I ', 'My ', 'But ', 'I ', 'And ', 'A\\n', 'You ', 'That ', 'Be ', 'And ', 'I ', 'As ', 'S\\n', 'Now ', 'I ', 'Some ', 'Romans\\n', 'To ', 'Of ', 'And ', 'I ', 'In ', 'There ', 'And ', 'In ', 'Most ', 'A\\n', 'Stand ', 'S\\n', 'Tis ', 'I ', 'He ', 'Enter ', 'A\\n', 'A\\n', 'To ', 'Metellus ', 'S\\n', 'To ', 'Am ', 'I ', 'A\\n', 'I ', 'What ', 'S\\n', 'Am ', 'I ', 'A\\n', 'O ', 'But ', 'Brutus ', 'S\\n', 'Be ', 'And ', 'Where ', 'Brutus ', 'In ', 'Upon ', 'Repair ', 'Is ', 'Decius ', 'Brutus ', 'Trebonius ', 'A\\n', 'All ', 'Metellus ', 'To ', 'I ', 'And ', 'S\\n', 'That ', 'Exit ', 'A\\n', 'I ', 'See ', 'Brutus ', 'Is ', 'Upon ', 'A\\n', 'And ', 'His ', 'Will ', 'S\\n', 'Him ', 'You ', 'Let ', 'For ', 'We ', 'Exeunt\\n', 'T ', 'I\\n', 'E ', 'Enter ', 'S\\n', 'S\\n', 'I ', 'Give ', 'I ', 'I ', 'I ', 'Enter ', 'S\\n', 'S\\n', 'S\\n', 'Get ', 'When ', 'S\\n', 'I ', 'Exit\\n', 'S\\n', 'It ', 'I ', 'But ', 'He ', 'How ', 'It ', 'And ', 'Crown ', 'And ', 'I ', 'That ', 'The ', 'Remorse ', 'I ', 'More ', 'But ', 'That ', 'Whereto ', 'But ', 'He ', 'Looks ', 'By ', 'So ', 'Caesar ', 'Will ', 'Fashion ', 'Would ', 'And ', 'And ', 'S\\n', 'S\\n', 'The ', 'Searching ', 'I ', 'This ', 'I ', 'It ', 'I ', 'Gives ', 'S\\n', 'Get ', 'Is ', 'S\\n', 'I ', 'S\\n', 'Look ', 'S\\n', 'I ', 'Exit\\n', 'S\\n', 'The ', 'Give ', 'I ', 'Opens ', 'Shall ', 'Such ', 'Where ', 'I ', 'Shall ', 'Thus ', 'I ', 'Shall ', 'Rome ', 'My ', 'Rome\\n', 'The ', 'Tarquin ', 'Am ', 'I ', 'To ', 'O ', 'I ', 'If ', 'Thy ', 'S\\n', 'S\\n', 'March ', 'Knocking ', 'S\\n', 'Tis ', 'Go ', 'Exit ', 'S\\n', 'Since ', 'Cassius ', 'I ', 'Between ', 'And ', 'Like ', 'The ', 'Genius ', 'Are ', 'Like ', 'The ', 'S\\n', 'S\\n', 'Cassius ', 'Who ', 'S\\n', 'Is ', 'S\\n', 'S\\n', 'Do ', 'S\\n', 'And ', 'That ', 'I ', 'By ', 'S\\n', 'Let ', 'Exit ', 'S\\n', 'They ', 'O ', 'Shamest ', 'When ', 'Where ', 'To ', 'Seek ', 'Hide ', 'For ', 'Not ', 'Erebus ', 'To ', 'Enter ', 'S ', 'S ', 'S\\n', 'S\\n', 'I ', 'Good ', 'S\\n', 'I ', 'Know ', 'I ', 'S\\n', 'But ', 'You ', 'Which ', 'Roman ', 'This ', 'S\\n', 'He ', 'S\\n', 'Decius ', 'S\\n', 'He ', 'S\\n', 'Metellus ', 'S\\n', 'They ', 'What ', 'Betwixt ', 'S\\n', 'Shall ', 'I ', 'S ', 'S ', 'S ', 'S\\n', 'Here ', 'A\\n', 'A\\n', 'That ', 'A\\n', 'You ', 'I ', 'Which ', 'Weighing ', 'Some ', 'He ', 'S\\n', 'Give ', 'S\\n', 'And ', 'S\\n', 'The ', 'If ', 'And ', 'So ', 'Till ', 'But ', 'As ', 'I ', 'To ', 'The ', 'What ', 'To ', 'Than ', 'And ', 'Than ', 'That ', 'Swear ', 'Old ', 'That ', 'Such ', 'The ', 'Nor ', 'To ', 'Did ', 'That ', 'Roman ', 'Is ', 'If ', 'Of ', 'S\\n', 'But ', 'I ', 'A\\n', 'Let ', 'A\\n', 'S ', 'R\\n', 'Will ', 'And ', 'It ', 'Our ', 'But ', 'S\\n', 'For ', 'That ', 'S\\n', 'Then ', 'A\\n', 'Indeed ', 'S ', 'S\\n', 'Shall ', 'S\\n', 'I ', 'Mark ', 'Should ', 'A ', 'If ', 'As ', 'Let ', 'Antony ', 'Caesar ', 'S\\n', 'Our ', 'Caius ', 'To ', 'Like ', 'For ', 'Antony ', 'Let ', 'We ', 'And ', 'And ', 'Caesar ', 'Not ', 'And ', 'Stir ', 'And ', 'This ', 'Our ', 'Which ', 'We ', 'And ', 'Mark ', 'For ', 'When ', 'S\\n', 'Yet ', 'I ', 'For ', 'S\\n', 'If ', 'Is ', 'And ', 'To ', 'S\\n', 'There ', 'For ', 'Clock ', 'S\\n', 'S\\n', 'The ', 'S\\n', 'Tis ', 'S\\n', 'But ', 'Whether ', 'Caesar ', 'For ', 'Quite ', 'Of ', 'It ', 'The ', 'And ', 'May ', 'Capitol ', 'S ', 'S\\n', 'Never ', 'I ', 'That ', 'And ', 'Lions ', 'But ', 'I ', 'He ', 'Let ', 'For ', 'I ', 'And ', 'I ', 'S\\n', 'S\\n', 'By ', 'A\\n', 'Be ', 'S ', 'R\\n', 'Caius ', 'Ligarius ', 'Caesar ', 'Who ', 'I ', 'S\\n', 'He ', 'I ', 'Send ', 'S\\n', 'The ', 'What ', 'S\\n', 'Good ', 'Let ', 'But ', 'Roman ', 'With ', 'And ', 'Exeunt ', 'S\\n', 'Fast ', 'It ', 'Enjoy ', 'Thou ', 'Which ', 'Therefore ', 'Enter ', 'A\\n', 'A\\n', 'S\\n', 'It ', 'Your ', 'A\\n', 'Nor ', 'Stole ', 'You ', 'Musing ', 'And ', 'I ', 'You ', 'I ', 'And ', 'Yet ', 'I ', 'Gave ', 'I ', 'Fearing ', 'Which ', 'Hoping ', 'Which ', 'It ', 'And ', 'As ', 'I ', 'Dear ', 'Make ', 'S\\n', 'I ', 'A\\n', 'Brutus ', 'He ', 'S\\n', 'I ', 'Good ', 'A\\n', 'Is ', 'Brutus ', 'To ', 'Of ', 'Brutus ', 'And ', 'To ', 'And ', 'To ', 'You ', 'I ', 'I ', 'By ', 'Which ', 'That ', 'Why ', 'Have ', 'Some ', 'Even ', 'S\\n', 'Kneel ', 'A\\n', 'I ', 'Within ', 'Is ', 'I ', 'That ', 'Am ', 'I ', 'To ', 'And ', 'Dwell ', 'I ', 'Of ', 'If ', 'Portia ', 'S\\n', 'You ', 'As ', 'That ', 'A\\n', 'If ', 'I ', 'I ', 'I ', 'A ', 'Lord ', 'Brutus ', 'I ', 'I ', 'A ', 'Think ', 'I ', 'Being ', 'Tell ', 'I ', 'I ', 'Giving ', 'I ', 'And ', 'S\\n', 'O ', 'Render ', 'Knocking ', 'And ', 'The ', 'All ', 'I ', 'All ', 'Leave ', 'Exit ', 'A\\n', 'S ', 'S\\n', 'S\\n', 'He ', 'S\\n', 'Caius ', 'Metellus ', 'Caius ', 'S\\n', 'Vouchsafe ', 'S\\n', 'To ', 'Would ', 'S\\n', 'I ', 'Brutus ', 'Any ', 'S\\n', 'Such ', 'I ', 'Had ', 'S\\n', 'By ', 'Romans ', 'I ', 'Soul ', 'Brave ', 'My ', 'Now ', 'And ', 'I ', 'S\\n', 'A ', 'S\\n', 'But ', 'S\\n', 'That ', 'What ', 'I ', 'To ', 'S\\n', 'Set ', 'And ', 'I ', 'To ', 'I ', 'That ', 'Brutus ', 'S\\n', 'Follow ', 'Exeunt\\n', 'E ', 'Thunder ', 'Enter ', 'R\\n', 'Nor ', 'Thrice ', 'Calpurnia ', 'Enter ', 'Servant\\n', 'Servant\\n', 'My ', 'R\\n', 'Go ', 'And ', 'Servant\\n', 'I ', 'Exit\\n', 'Enter ', 'A\\n', 'A\\n', 'What ', 'You ', 'R\\n', 'Caesar ', 'The ', 'A\\n', 'I ', 'Yet ', 'There ', 'Besides ', 'Recounts ', 'A ', 'And ', 'Fierce ', 'In ', 'Which ', 'The ', 'Horses ', 'And ', 'O ', 'And ', 'I ', 'R\\n', 'What ', 'Whose ', 'Yet ', 'Caesar ', 'Are ', 'A\\n', 'When ', 'The ', 'R\\n', 'Cowards ', 'The ', 'Of ', 'I ', 'It ', 'Seeing ', 'Will ', 'Servant\\n', 'What ', 'Servant\\n', 'They ', 'Plucking ', 'They ', 'R\\n', 'The ', 'Caesar ', 'If ', 'Caesar ', 'That ', 'Caesar ', 'We ', 'And ', 'I ', 'And ', 'Caesar ', 'A\\n', 'Your ', 'Do ', 'That ', 'Mark ', 'Antony ', 'And ', 'Let ', 'R\\n', 'Mark ', 'Antony ', 'I ', 'I ', 'Enter ', 'S ', 'S\\n', 'Decius ', 'S ', 'S\\n', 'I ', 'R\\n', 'And ', 'To ', 'And ', 'I ', 'I ', 'I ', 'A\\n', 'Say ', 'R\\n', 'Shall ', 'Caesar ', 'Have ', 'I ', 'To ', 'Caesar ', 'S ', 'S\\n', 'Most ', 'Lest ', 'I ', 'I ', 'R\\n', 'The ', 'I ', 'That ', 'But ', 'Because ', 'I ', 'I ', 'Calpurnia ', 'She ', 'Did ', 'Romans\\n', 'Came ', 'And ', 'And ', 'Hath ', 'I ', 'S ', 'S\\n', 'This ', 'It ', 'Your ', 'In ', 'Romans ', 'Signifies ', 'Rome ', 'Reviving ', 'For ', 'This ', 'R\\n', 'And ', 'S ', 'S\\n', 'I ', 'I ', 'And ', 'To ', 'If ', 'Their ', 'Apt ', 'Break ', 'When ', 'If ', 'Caesar ', 'Caesar ', 'Pardon ', 'To ', 'And ', 'R\\n', 'How ', 'I ', 'I ', 'Give ', 'I ', 'Enter ', 'A\\n', 'And ', 'Publius ', 'S\\n', 'Good ', 'R\\n', 'Good ', 'Caius ', 'Caesar ', 'As ', 'What ', 'S\\n', 'R\\n', 'I ', 'Enter ', 'Y\\n', 'Is ', 'Good ', 'Y\\n', 'So ', 'R\\n', 'Bid ', 'I ', 'I ', 'Remember ', 'Be ', 'I ', 'S\\n', 'I ', 'Aside\\n', 'I ', 'That ', 'I ', 'R\\n', 'Good ', 'And ', 'S\\n', 'That ', 'O ', 'The ', 'Brutus ', 'Exeunt\\n', 'E ', 'A ', 'Enter ', 'S\\n', 'Metellus ', 'Decius ', 'Brutus\\n', 'Caius ', 'There ', 'If ', 'The ', 'Thy ', 'Here ', 'I ', 'Caesar ', 'And ', 'I ', 'My ', 'Out ', 'If ', 'O ', 'If ', 'Fates ', 'Exit\\n', 'E ', 'Another ', 'Enter ', 'A ', 'S\\n', 'A\\n', 'I ', 'Stay ', 'Why ', 'S\\n', 'To ', 'A\\n', 'I ', 'Ere ', 'I ', 'O ', 'Set ', 'I ', 'How ', 'Art ', 'S\\n', 'I ', 'Run ', 'And ', 'A\\n', 'For ', 'What ', 'Caesar ', 'S\\n', 'I ', 'A\\n', 'I ', 'And ', 'S\\n', 'I ', 'Enter ', 'Soothsayer\\n', 'A\\n', 'Come ', 'Soothsayer\\n', 'At ', 'A\\n', 'What ', 'Soothsayer\\n', 'About ', 'A\\n', 'Is ', 'Caesar ', 'Soothsayer\\n', 'I ', 'To ', 'A\\n', 'Thou ', 'Soothsayer\\n', 'That ', 'I ', 'Caesar\\n', 'To ', 'Caesar ', 'I ', 'A\\n', 'Soothsayer\\n', 'None ', 'I ', 'I ', 'Good ', 'Here ', 'The ', 'Caesar ', 'Of ', 'Will ', 'Speak ', 'Caesar ', 'Exit\\n', 'A\\n', 'I ', 'Ay ', 'The ', 'O ', 'The ', 'Brutus ', 'That ', 'Caesar ', 'I ', 'Say ', 'I ', 'And ', 'Exeunt ', 'T ', 'I\\n', 'E ', 'Before ', 'Senate ', 'A ', 'S ', 'Enter ', 'S ', 'S ', 'R\\n', 'To ', 'The ', 'March ', 'Soothsayer\\n', 'S\\n', 'S ', 'S\\n', 'Trebonius ', 'At ', 'S\\n', 'O ', 'That ', 'Caesar ', 'R\\n', 'What ', 'S\\n', 'Delay ', 'R\\n', 'S\\n', 'S\\n', 'Come ', 'R ', 'S\\n', 'I ', 'S\\n', 'What ', 'S\\n', 'Fare ', 'Advances ', 'R\\n', 'S\\n', 'What ', 'Popilius ', 'S\\n', 'He ', 'I ', 'S\\n', 'S\\n', 'If ', 'Cassius ', 'Caesar ', 'For ', 'I ', 'S\\n', 'Popilius ', 'Lena ', 'Caesar ', 'S\\n', 'Trebonius ', 'He ', 'Mark ', 'Antony ', 'Exeunt ', 'Y ', 'S\\n', 'S ', 'S\\n', 'Where ', 'Metellus ', 'Let ', 'And ', 'S\\n', 'He ', 'A\\n', 'R\\n', 'Are ', 'What ', 'That ', 'Caesar ', 'S ', 'R\\n', 'Most ', 'Metellus ', 'Cimber ', 'An ', 'Kneeling\\n', 'R\\n', 'I ', 'These ', 'Might ', 'And ', 'Into ', 'Be ', 'To ', 'Caesar ', 'That ', 'With ', 'I ', 'Thy ', 'If ', 'I ', 'Caesar ', 'Will ', 'S ', 'R\\n', 'Is ', 'To ', 'For ', 'S\\n', 'I ', 'Desiring ', 'Publius ', 'Cimber ', 'Have ', 'R\\n', 'S\\n', 'As ', 'Cassius ', 'To ', 'Publius ', 'S\\n', 'I ', 'I ', 'If ', 'I ', 'But ', 'I ', 'Of ', 'There ', 'The ', 'They ', 'But ', 'So ', 'And ', 'Yet ', 'I ', 'That ', 'Unshaked ', 'I ', 'Let ', 'That ', 'I ', 'Cimber ', 'And ', 'A\\n', 'O ', 'R\\n', 'S ', 'S\\n', 'Great ', 'R\\n', 'Doth ', 'Brutus ', 'A\\n', 'A ', 'Conspirators ', 'S ', 'R\\n', 'R\\n', 'Et ', 'Then ', 'Dies\\n', 'A\\n', 'Tyranny ', 'Run ', 'S\\n', 'Some ', 'S\\n', 'People ', 'Fly ', 'A\\n', 'Go ', 'S ', 'S\\n', 'And ', 'Cassius ', 'S\\n', 'A\\n', 'S ', 'R\\n', 'Stand ', 'Should ', 'S\\n', 'Talk ', 'There ', 'Nor ', 'Roman ', 'S\\n', 'And ', 'Rushing ', 'S\\n', 'Do ', 'But ', 'S\\n', 'S\\n', 'Where ', 'S\\n', 'Fled ', 'As ', 'S\\n', 'That ', 'And ', 'S\\n', 'Cuts ', 'S\\n', 'Grant ', 'So ', 'His ', 'And ', 'Up ', 'Then ', 'S\\n', 'How ', 'Shall ', 'In ', 'S\\n', 'How ', 'Caesar ', 'That ', 'No ', 'S\\n', 'So ', 'So ', 'The ', 'S ', 'S\\n', 'S\\n', 'Brutus ', 'With ', 'Enter ', 'Servant\\n', 'S\\n', 'A ', 'Servant\\n', 'Thus ', 'Mark ', 'Antony ', 'Brutus ', 'Caesar ', 'Say ', 'I ', 'I ', 'Say ', 'I ', 'If ', 'Brutus ', 'Antony\\n', 'May ', 'How ', 'Caesar ', 'Mark ', 'Antony ', 'Caesar ', 'So ', 'Brutus ', 'The ', 'Brutus\\n', 'Thorough ', 'With ', 'So ', 'S\\n', 'Thy ', 'I ', 'Tell ', 'He ', 'Depart ', 'Servant\\n', 'Exit\\n', 'S\\n', 'I ', 'S\\n', 'I ', 'I ', 'That ', 'Falls ', 'S\\n', 'But ', 'Y\\n', 'Mark ', 'Y\\n', 'O ', 'Are ', 'Shrunk ', 'Fare ', 'I ', 'Who ', 'If ', 'I ', 'As ', 'Of ', 'With ', 'I ', 'Fulfil ', 'Live ', 'I ', 'No ', 'As ', 'The ', 'S\\n', 'O ', 'Though ', 'You ', 'And ', 'Our ', 'And ', 'As ', 'Hath ', 'For ', 'To ', 'Mark ', 'Our ', 'Of ', 'With ', 'S\\n', 'Your ', 'In ', 'S\\n', 'Only ', 'The ', 'And ', 'Why ', 'Caesar ', 'I ', 'Have ', 'Y\\n', 'I ', 'Let ', 'Marcus ', 'I ', 'Caius ', 'I ', 'Decius ', 'Though ', 'Gentlemen ', 'I ', 'My ', 'That ', 'Either ', 'That ', 'I ', 'If ', 'Shall ', 'To ', 'Anthony ', 'Shaking ', 'Most ', 'Had ', 'I ', 'Weeping ', 'It ', 'In ', 'Pardon ', 'Here ', 'Here ', 'O ', 'And ', 'O ', 'How ', 'Dost ', 'S\\n', 'Mark ', 'Y\\n', 'Pardon ', 'Caius ', 'The ', 'Caesar ', 'S\\n', 'I ', 'Caesar ', 'But ', 'Will ', 'Or ', 'Y\\n', 'Therefore ', 'I ', 'Friends ', 'I ', 'Upon ', 'Why ', 'Caesar ', 'S\\n', 'Or ', 'Our ', 'That ', 'You ', 'Y\\n', 'I ', 'And ', 'I ', 'Produce ', 'And ', 'Speak ', 'S\\n', 'You ', 'Mark ', 'S\\n', 'Aside ', 'S\\n', 'You ', 'That ', 'Antony ', 'Know ', 'By ', 'S\\n', 'By ', 'I ', 'And ', 'What ', 'Antony ', 'I ', 'He ', 'And ', 'Caesar ', 'Have ', 'It ', 'S\\n', 'I ', 'I ', 'S\\n', 'Mark ', 'You ', 'But ', 'And ', 'Else ', 'About ', 'In ', 'I ', 'After ', 'Y\\n', 'Be ', 'I ', 'S\\n', 'Prepare ', 'Exeunt ', 'Y\\n', 'Y\\n', 'That ', 'I ', 'Thou ', 'That ', 'Woe ', 'Over ', 'I ', 'To ', 'A ', 'Domestic ', 'Shall ', 'Blood ', 'And ', 'That ', 'Their ', 'All ', 'And ', 'With ', 'Ate ', 'Shall ', 'Cry ', 'That ', 'With ', 'Enter ', 'Servant\\n', 'You ', 'Octavius ', 'Servant\\n', 'I ', 'Mark ', 'Y\\n', 'Caesar ', 'Servant\\n', 'He ', 'And ', 'O ', 'Seeing ', 'Y\\n', 'Thy ', 'I ', 'Seeing ', 'Began ', 'Is ', 'Servant\\n', 'He ', 'Y\\n', 'Post ', 'Here ', 'No ', 'Rome ', 'Octavius ', 'Hie ', 'Thou ', 'I ', 'Into ', 'I ', 'In ', 'The ', 'According ', 'To ', 'Octavius ', 'Lend ', 'Exeunt ', 'E ', 'The ', 'Enter ', 'S ', 'Citizens\\n', 'Citizens\\n', 'We ', 'S\\n', 'Then ', 'And ', 'Those ', 'Those ', 'And ', 'Of ', 'First ', 'Citizen\\n', 'I ', 'Brutus ', 'Second ', 'Citizen\\n', 'I ', 'When ', 'Exit ', 'S ', 'Third ', 'Citizen\\n', 'The ', 'Brutus ', 'S\\n', 'Be ', 'If ', 'I ', 'Caesar\\n', 'If ', 'Brutus ', 'Not ', 'I ', 'Caesar ', 'I ', 'Rome ', 'Had ', 'Caesar ', 'Caesar ', 'As ', 'Caesar ', 'I ', 'I ', 'I ', 'I\\n', 'There ', 'Who ', 'If ', 'I ', 'Who ', 'If\\n', 'I ', 'Who ', 'If ', 'I ', 'I ', 'All\\n', 'S\\n', 'Then ', 'I ', 'I ', 'Caesar ', 'The ', 'Enter ', 'Y ', 'Here ', 'Mark ', 'With ', 'I ', 'I ', 'I ', 'All\\n', 'First ', 'Citizen\\n', 'Bring ', 'Second ', 'Citizen\\n', 'Give ', 'Third ', 'Citizen\\n', 'Let ', 'Fourth ', 'Citizen\\n', 'Shall ', 'First ', 'Citizen\\n', 'With ', 'S\\n', 'My ', 'Second ', 'Citizen\\n', 'Brutus ', 'First ', 'Citizen\\n', 'S\\n', 'Good ', 'Do ', 'Tending ', 'Mark ', 'By ', 'I ', 'Save ', 'I ', 'Antony ', 'Exit\\n', 'First ', 'Citizen\\n', 'Mark ', 'Third ', 'Citizen\\n', 'Let ', 'Noble ', 'Y\\n', 'For ', 'I ', 'Goes ', 'Fourth ', 'Citizen\\n', 'What ', 'Third ', 'Citizen\\n', 'He ', 'He ', 'Fourth ', 'Citizen\\n', 'Twere ', 'Brutus ', 'First ', 'Citizen\\n', 'This ', 'Caesar ', 'Third ', 'Citizen\\n', 'We ', 'Rome ', 'Second ', 'Citizen\\n', 'Antony ', 'Y\\n', 'You ', 'Citizens\\n', 'Y\\n', 'I ', 'The ', 'The ', 'So ', 'The ', 'Brutus\\n', 'Hath ', 'Caesar ', 'If ', 'And ', 'Caesar ', 'Brutus ', 'For ', 'Brutus ', 'So ', 'Come ', 'I ', 'He ', 'But ', 'Brutus ', 'And ', 'Brutus ', 'He ', 'Rome\\n', 'Whose ', 'Did ', 'Caesar ', 'When ', 'Caesar ', 'Ambition ', 'Yet ', 'Brutus ', 'And ', 'Brutus ', 'You ', 'Lupercal\\n', 'I ', 'Which ', 'Yet ', 'Brutus ', 'I ', 'Brutus ', 'But ', 'I ', 'I ', 'You ', 'What ', 'O ', 'And ', 'Bear ', 'My ', 'And ', 'I ', 'First ', 'Citizen\\n', 'Methinks ', 'Second ', 'Citizen\\n', 'If ', 'Caesar ', 'Third ', 'Citizen\\n', 'Has ', 'I ', 'Fourth ', 'Citizen\\n', 'He ', 'Therefore ', 'First ', 'Citizen\\n', 'If ', 'Second ', 'Citizen\\n', 'Poor ', 'Third ', 'Citizen\\n', 'Rome ', 'Fourth ', 'Citizen\\n', 'Now ', 'Y\\n', 'But ', 'Caesar ', 'Have ', 'And ', 'O ', 'I ', 'Your ', 'I ', 'Brutus ', 'Cassius ', 'I ', 'I ', 'To ', 'Than ', 'I ', 'But ', 'I ', 'Let ', 'I ', 'And ', 'And ', 'Bequeathing ', 'Unto ', 'Fourth ', 'Citizen\\n', 'Mark ', 'All\\n', 'The ', 'Y\\n', 'Have ', 'I ', 'It ', 'Caesar ', 'You ', 'It ', 'Tis ', 'Fourth ', 'Citizen\\n', 'Read ', 'You ', 'Y\\n', 'Will ', 'I ', 'I ', 'I ', 'Whose ', 'I ', 'Fourth ', 'Citizen\\n', 'They ', 'All\\n', 'The ', 'Second ', 'Citizen\\n', 'They ', 'Y\\n', 'You ', 'Then ', 'And ', 'Shall ', 'I ', 'Several ', 'Citizens\\n', 'Come ', 'Second ', 'Citizen\\n', 'Third ', 'Citizen\\n', 'You ', 'Y ', 'Fourth ', 'Citizen\\n', 'A ', 'First ', 'Citizen\\n', 'Stand ', 'Second ', 'Citizen\\n', 'Room ', 'Y\\n', 'Several ', 'Citizens\\n', 'Stand ', 'Y\\n', 'If ', 'You ', 'I ', 'The ', 'Caesar ', 'Twas ', 'That ', 'See ', 'Casca ', 'Through ', 'Brutus ', 'And ', 'Mark ', 'Caesar ', 'As ', 'If ', 'Brutus ', 'For ', 'O ', 'Caesar ', 'This ', 'For ', 'Caesar ', 'Quite ', 'Even ', 'Which ', 'Caesar ', 'Then ', 'Whilst ', 'I ', 'The ', 'Kind ', 'Our ', 'Look ', 'Here ', 'First ', 'Citizen\\n', 'O ', 'Second ', 'Citizen\\n', 'O ', 'Third ', 'Citizen\\n', 'O ', 'Fourth ', 'Citizen\\n', 'O ', 'First ', 'Citizen\\n', 'O ', 'Second ', 'Citizen\\n', 'We ', 'All\\n', 'Let ', 'Y\\n', 'First ', 'Citizen\\n', 'Peace ', 'Second ', 'Citizen\\n', 'Y\\n', 'Good ', 'To ', 'They ', 'What ', 'I ', 'That ', 'And ', 'I ', 'I ', 'Brutus ', 'That ', 'That ', 'For ', 'I ', 'To ', 'I ', 'I ', 'Show ', 'And ', 'I ', 'And ', 'Brutus ', 'Antony\\n', 'Would ', 'In ', 'Caesar ', 'The ', 'Rome ', 'All\\n', 'First ', 'Citizen\\n', 'Third ', 'Citizen\\n', 'Y\\n', 'Yet ', 'All\\n', 'Hear ', 'Most ', 'Y\\n', 'Wherein ', 'Caesar ', 'I ', 'You ', 'I ', 'All\\n', 'Most ', 'The ', 'Y\\n', 'Here ', 'To ', 'Roman ', 'To ', 'Second ', 'Citizen\\n', 'Most ', 'Third ', 'Citizen\\n', 'O ', 'Y\\n', 'Hear ', 'All\\n', 'Y\\n', 'His ', 'On ', 'And ', 'To ', 'Here ', 'First ', 'Citizen\\n', 'And ', 'Take ', 'Second ', 'Citizen\\n', 'Go ', 'Third ', 'Citizen\\n', 'Pluck ', 'Fourth ', 'Citizen\\n', 'Pluck ', 'Exeunt ', 'Citizens ', 'Y\\n', 'Now ', 'Take ', 'Enter ', 'Servant\\n', 'How ', 'Servant\\n', 'Octavius ', 'Y\\n', 'Where ', 'Servant\\n', 'He ', 'Lepidus ', 'Y\\n', 'And ', 'I ', 'He ', 'Fortune ', 'And ', 'Servant\\n', 'I ', 'Brutus ', 'Cassius\\n', 'Are ', 'Y\\n', 'Belike ', 'How ', 'I ', 'Bring ', 'Exeunt\\n', 'E ', 'A ', 'Enter ', 'A ', 'A ', 'E ', 'T\\n', 'I ', 'I ', 'And ', 'I ', 'Yet ', 'Enter ', 'Citizens\\n', 'First ', 'Citizen\\n', 'What ', 'Second ', 'Citizen\\n', 'Whither ', 'Third ', 'Citizen\\n', 'Where ', 'Fourth ', 'Citizen\\n', 'Are ', 'Second ', 'Citizen\\n', 'Answer ', 'First ', 'Citizen\\n', 'Fourth ', 'Citizen\\n', 'Third ', 'Citizen\\n', 'A ', 'E ', 'T\\n', 'What ', 'Whither ', 'I ', 'Where ', 'I\\n', 'Am ', 'I ', 'I ', 'I ', 'Second ', 'Citizen\\n', 'I ', 'A ', 'E ', 'T\\n', 'I ', 'First ', 'Citizen\\n', 'As ', 'A ', 'E ', 'T\\n', 'As ', 'Second ', 'Citizen\\n', 'That ', 'Fourth ', 'Citizen\\n', 'For ', 'A ', 'E ', 'T\\n', 'I ', 'Third ', 'Citizen\\n', 'Your ', 'A ', 'E ', 'T\\n', 'First ', 'Citizen\\n', 'Tear ', 'A ', 'E ', 'T\\n', 'I ', 'Cinna ', 'I ', 'Cinna ', 'Fourth ', 'Citizen\\n', 'Tear ', 'A ', 'E ', 'T\\n', 'I ', 'Cinna ', 'Fourth ', 'Citizen\\n', 'It ', 'Third ', 'Citizen\\n', 'Tear ', 'Exeunt\\n', 'T ', 'V\\n', 'E ', 'A ', 'Y\\n', 'These ', 'S\\n', 'Your ', 'S\\n', 'I ', 'S\\n', 'Prick ', 'S\\n', 'Upon ', 'Publius ', 'Who ', 'Mark ', 'Y\\n', 'He ', 'I ', 'Fetch ', 'How ', 'S\\n', 'I ', 'S\\n', 'Or ', 'Exit ', 'S\\n', 'Y\\n', 'This ', 'Meet ', 'The ', 'One ', 'S\\n', 'So ', 'And ', 'In ', 'Y\\n', 'I ', 'And ', 'To ', 'He ', 'To ', 'Either ', 'And ', 'Then ', 'Like ', 'And ', 'S\\n', 'You ', 'But ', 'Y\\n', 'So ', 'I ', 'It ', 'I ', 'To ', 'His ', 'Lepidus ', 'He ', 'A ', 'On ', 'Begin ', 'But ', 'And ', 'Listen ', 'Brutus ', 'Cassius\\n', 'Are ', 'Therefore ', 'Our ', 'And ', 'How ', 'And ', 'S\\n', 'Let ', 'And ', 'And ', 'I ', 'Millions ', 'Exeunt\\n', 'E ', 'Camp ', 'Before ', 'Enter ', 'S ', 'S ', 'S\\n', 'S\\n', 'Give ', 'S\\n', 'What ', 'Cassius ', 'S\\n', 'He ', 'Pindarus ', 'To ', 'S\\n', 'He ', 'Your ', 'In ', 'Hath ', 'Things ', 'I ', 'S\\n', 'I ', 'But ', 'Such ', 'S\\n', 'He ', 'A ', 'How ', 'S\\n', 'With ', 'But ', 'Nor ', 'As ', 'S\\n', 'Thou ', 'A ', 'When ', 'It ', 'There ', 'But ', 'Make ', 'But ', 'They ', 'Sink ', 'Comes ', 'S\\n', 'They ', 'Sardis ', 'The ', 'Are ', 'S\\n', 'Low ', 'March ', 'Enter ', 'S ', 'S\\n', 'S\\n', 'Speak ', 'First ', 'Soldier\\n', 'Second ', 'Soldier\\n', 'Third ', 'Soldier\\n', 'S\\n', 'Most ', 'S\\n', 'Judge ', 'I ', 'I ', 'S\\n', 'And ', 'S\\n', 'Speak ', 'I ', 'Before ', 'Which ', 'Let ', 'Then ', 'And ', 'I ', 'S\\n', 'Bid ', 'A ', 'S\\n', 'Come ', 'Let ', 'Lucius ', 'Titinius ', 'Exeunt\\n', 'E ', 'Enter ', 'S ', 'S\\n', 'S\\n', 'That ', 'You ', 'Lucius ', 'Pella\\n', 'For ', 'Wherein ', 'Because ', 'I ', 'S\\n', 'You ', 'S\\n', 'In ', 'That ', 'S\\n', 'Let ', 'Are ', 'To ', 'To ', 'S\\n', 'I ', 'You ', 'Brutus ', 'S\\n', 'The ', 'Cassius ', 'And ', 'S\\n', 'S\\n', 'Remember ', 'March ', 'Did ', 'Julius ', 'What ', 'And ', 'That ', 'But ', 'Contaminate ', 'And ', 'For ', 'I ', 'Than ', 'S\\n', 'To ', 'I ', 'Older ', 'To ', 'S\\n', 'Go ', 'S\\n', 'I ', 'S\\n', 'I ', 'S\\n', 'Urge ', 'I ', 'Have ', 'S\\n', 'S\\n', 'S\\n', 'Hear ', 'I ', 'Must ', 'I ', 'Shall ', 'I ', 'S\\n', 'O ', 'I ', 'S\\n', 'All ', 'Go ', 'And ', 'Must ', 'I ', 'Must ', 'I ', 'I ', 'Under ', 'By ', 'You ', 'Though ', 'When ', 'S\\n', 'Is ', 'S\\n', 'You ', 'Let ', 'And ', 'I ', 'S\\n', 'You ', 'I ', 'Did ', 'I ', 'S\\n', 'If ', 'I ', 'S\\n', 'When ', 'Caesar ', 'S\\n', 'S\\n', 'I ', 'S\\n', 'S\\n', 'S\\n', 'For ', 'S\\n', 'Do ', 'I ', 'I ', 'S\\n', 'You ', 'There ', 'For ', 'I ', 'That ', 'Which ', 'I ', 'I ', 'For ', 'For ', 'I ', 'By ', 'I ', 'And ', 'From ', 'By ', 'I ', 'To ', 'Which ', 'Should ', 'I ', 'Caius ', 'Cassius ', 'When ', 'Marcus ', 'Brutus ', 'To ', 'Be ', 'Dash ', 'S\\n', 'I ', 'S\\n', 'You ', 'S\\n', 'I ', 'My ', 'Brutus ', 'A ', 'But ', 'Brutus ', 'S\\n', 'I ', 'S\\n', 'You ', 'S\\n', 'I ', 'S\\n', 'A ', 'S\\n', 'A ', 'As ', 'S\\n', 'Revenge ', 'For ', 'Cassius ', 'Hated ', 'Set ', 'To ', 'I ', 'My ', 'There ', 'And ', 'Dearer ', 'If ', 'I ', 'When ', 'Than ', 'S\\n', 'Sheathe ', 'Be ', 'Do ', 'O ', 'That ', 'And ', 'S\\n', 'Hath ', 'Cassius ', 'To ', 'When ', 'S\\n', 'When ', 'I ', 'I ', 'S\\n', 'Do ', 'Give ', 'S\\n', 'And ', 'S\\n', 'O ', 'S\\n', 'S\\n', 'Have ', 'When ', 'Makes ', 'S\\n', 'When ', 'Poet\\n', 'Let ', 'There ', 'They ', 'S\\n', 'You ', 'Poet\\n', 'Nothing ', 'Enter ', 'S\\n', 'S\\n', 'How ', 'Poet\\n', 'For ', 'For ', 'I ', 'S\\n', 'S\\n', 'Get ', 'S\\n', 'Bear ', 'S\\n', 'What ', 'S\\n', 'Exit ', 'Poet\\n', 'S\\n', 'Lucilius ', 'Prepare ', 'S\\n', 'And ', 'Messala ', 'Immediately ', 'Exeunt ', 'S ', 'S\\n', 'S\\n', 'Exit ', 'S\\n', 'S\\n', 'I ', 'S\\n', 'O ', 'I ', 'S\\n', 'Of ', 'If ', 'S\\n', 'No ', 'Portia ', 'S\\n', 'S\\n', 'She ', 'S\\n', 'How ', 'I ', 'I ', 'O ', 'Upon ', 'S\\n', 'Impatient ', 'And ', 'Octavius ', 'Mark ', 'Antony\\n', 'Have ', 'That ', 'S\\n', 'And ', 'S\\n', 'Even ', 'S\\n', 'O ', 'S\\n', 'Speak ', 'Give ', 'In ', 'I ', 'S\\n', 'My ', 'I ', 'S\\n', 'Come ', 'Exit ', 'S\\n', 'A\\n', 'Now ', 'And ', 'S\\n', 'S\\n', 'No ', 'I ', 'I ', 'That ', 'Octavius ', 'Mark ', 'Antony\\n', 'Come ', 'Bending ', 'A\\n', 'Myself ', 'S\\n', 'With ', 'A\\n', 'That ', 'Have ', 'S\\n', 'Therein ', 'Mine ', 'By ', 'Cicero ', 'S\\n', 'Cicero ', 'A\\n', 'Cicero ', 'And ', 'Had ', 'S\\n', 'A\\n', 'Nor ', 'S\\n', 'A\\n', 'S\\n', 'Why ', 'A\\n', 'S\\n', 'A\\n', 'Then ', 'Roman ', 'I ', 'For ', 'S\\n', 'We ', 'With ', 'I ', 'A\\n', 'Even ', 'S\\n', 'I ', 'But ', 'S\\n', 'What ', 'Of ', 'Philippi ', 'S\\n', 'I ', 'S\\n', 'Your ', 'S\\n', 'This ', 'Tis ', 'So ', 'Doing ', 'Are ', 'S\\n', 'Good ', 'The ', 'Philippi ', 'Do ', 'For ', 'The ', 'By ', 'Come ', 'From ', 'If ', 'Philippi ', 'These ', 'S\\n', 'Hear ', 'S\\n', 'Under ', 'You ', 'That ', 'Our ', 'The ', 'There ', 'Is ', 'On ', 'And ', 'Or ', 'S\\n', 'S\\n', 'The ', 'And ', 'Which ', 'There ', 'S\\n', 'No ', 'Good ', 'Early ', 'S\\n', 'Enter ', 'S\\n', 'My ', 'Exit ', 'S\\n', 'Good ', 'Good ', 'S\\n', 'O ', 'This ', 'Never ', 'Let ', 'S\\n', 'Every ', 'S\\n', 'Good ', 'S\\n', 'Good ', 'S ', 'A\\n', 'Good ', 'Lord ', 'S\\n', 'Exeunt ', 'S\\n', 'Give ', 'Where ', 'S\\n', 'Here ', 'S\\n', 'Poor ', 'I ', 'Call ', 'Claudius ', 'S\\n', 'Varro ', 'Enter ', 'O ', 'S\\n', 'O\\n', 'Calls ', 'S\\n', 'I ', 'It ', 'I ', 'On ', 'O\\n', 'So ', 'S\\n', 'I ', 'It ', 'I ', 'I ', 'I ', 'O ', 'S ', 'S\\n', 'I ', 'S\\n', 'Bear ', 'I ', 'Canst ', 'And ', 'S\\n', 'S\\n', 'It ', 'I ', 'S\\n', 'It ', 'S\\n', 'I ', 'I ', 'S\\n', 'I ', 'S\\n', 'It ', 'I ', 'I ', 'I ', 'This ', 'O ', 'That ', 'Gentle ', 'I ', 'If ', 'Let ', 'Where ', 'I ', 'Here ', 'I ', 'Enter ', 'Ghost ', 'R\\n', 'How ', 'I ', 'That ', 'It ', 'Art ', 'Art ', 'That ', 'Speak ', 'T\\n', 'Thy ', 'S\\n', 'Why ', 'T\\n', 'To ', 'S\\n', 'I ', 'T\\n', 'S\\n', 'I ', 'Exit ', 'Ghost\\n', 'Now ', 'I ', 'Ill ', 'I ', 'S\\n', 'The ', 'S\\n', 'He ', 'S\\n', 'My ', 'S\\n', 'Didst ', 'S\\n', 'My ', 'I ', 'I ', 'S\\n', 'S\\n', 'S\\n', 'Sleep ', 'Sirrah ', 'To ', 'O\\n', 'Fellow ', 'O\\n', 'My ', 'S\\n', 'My ', 'S\\n', 'Why ', 'O ', 'S\\n', 'Did ', 'S\\n', 'O\\n', 'I ', 'S\\n', 'Nor ', 'S\\n', 'Go ', 'Bid ', 'And ', 'O ', 'S\\n', 'It ', 'Exeunt\\n', 'T ', 'V\\n', 'E ', 'The ', 'Enter ', 'S\\n', 'You ', 'But ', 'It ', 'They ', 'Philippi ', 'Answering ', 'Y\\n', 'I ', 'I ', 'Wherefore ', 'To ', 'With ', 'To ', 'But ', 'Enter ', 'Messenger\\n', 'Messenger\\n', 'Prepare ', 'The ', 'Their ', 'And ', 'Y\\n', 'Upon ', 'S\\n', 'Upon ', 'Y\\n', 'Why ', 'S\\n', 'I ', 'I ', 'March\\n', 'Enter ', 'S\\n', 'They ', 'S\\n', 'Stand ', 'S\\n', 'Mark ', 'Y\\n', 'Make ', 'S\\n', 'Stir ', 'S\\n', 'Words ', 'S\\n', 'Not ', 'S\\n', 'Good ', 'Y\\n', 'In ', 'Witness ', 'Crying ', 'Long ', 'S\\n', 'The ', 'But ', 'Hybla ', 'And ', 'Y\\n', 'Not ', 'S\\n', 'For ', 'And ', 'Y\\n', 'You ', 'And ', 'Whilst ', 'Struck ', 'Caesar ', 'O ', 'S\\n', 'This ', 'If ', 'Cassius ', 'S\\n', 'The ', 'I ', 'When ', 'Be ', 'Caesar\\n', 'Have ', 'S\\n', 'Unless ', 'S\\n', 'So ', 'I ', 'I ', 'S\\n', 'Young ', 'S\\n', 'A ', 'Y\\n', 'Old ', 'Cassius ', 'S\\n', 'If ', 'If ', 'Exeunt ', 'S\\n', 'The ', 'S\\n', 'S\\n', 'Standing ', 'My ', 'S ', 'S ', 'S\\n', 'A\\n', 'Standing ', 'What ', 'S\\n', 'This ', 'Was ', 'Cassius ', 'Give ', 'Be ', 'As ', 'Pompey ', 'I ', 'Upon ', 'You ', 'I ', 'Epicurus ', 'And ', 'I ', 'And ', 'Coming ', 'Two ', 'Gorging ', 'Who ', 'Philippi ', 'This ', 'And ', 'Fly ', 'As ', 'A ', 'Our ', 'A\\n', 'Believe ', 'S\\n', 'I ', 'For ', 'I ', 'To ', 'S\\n', 'Even ', 'S\\n', 'The ', 'Lovers ', 'But ', 'If ', 'The ', 'What ', 'S\\n', 'Even ', 'By ', 'I ', 'Cato ', 'Which ', 'I ', 'But ', 'I ', 'For ', 'The ', 'To ', 'That ', 'S\\n', 'You ', 'Thorough ', 'S\\n', 'That ', 'Brutus ', 'He ', 'But ', 'Must ', 'March ', 'And ', 'I ', 'Therefore ', 'For ', 'If ', 'If ', 'S\\n', 'For ', 'If ', 'If ', 'S\\n', 'The ', 'But ', 'And ', 'Exeunt\\n', 'E ', 'The ', 'The ', 'Enter ', 'S ', 'A\\n', 'S\\n', 'Unto ', 'Loud ', 'Let ', 'I ', 'But ', 'And ', 'Exeunt\\n', 'E ', 'Another ', 'Enter ', 'S ', 'S\\n', 'S\\n', 'Myself ', 'This ', 'I ', 'S\\n', 'O ', 'Brutus ', 'Took ', 'Whilst ', 'Antony ', 'Enter ', 'S\\n', 'S\\n', 'Fly ', 'Mark ', 'Antony ', 'S\\n', 'This ', 'Are ', 'I ', 'S\\n', 'They ', 'S\\n', 'Mount ', 'Till ', 'And ', 'I ', 'Whether ', 'S\\n', 'I ', 'Exit\\n', 'S\\n', 'My ', 'And ', 'S ', 'This ', 'I ', 'And ', 'I ', 'I ', 'My ', 'S\\n', 'O ', 'S\\n', 'What ', 'S\\n', 'Titinius ', 'With ', 'Yet ', 'Now ', 'Now ', 'Shout\\n', 'S\\n', 'Come ', 'I ', 'To ', 'S ', 'Come ', 'In ', 'Parthia ', 'I ', 'And ', 'I ', 'That ', 'I ', 'Thou ', 'Come ', 'Now ', 'That ', 'Stand ', 'Guide ', 'S ', 'Even ', 'Dies\\n', 'S\\n', 'I ', 'Durst ', 'I ', 'O ', 'Far ', 'Pindarus ', 'Where ', 'Roman ', 'Exit\\n', 'S ', 'A\\n', 'A\\n', 'It ', 'Octavius\\n', 'Is ', 'As ', 'S\\n', 'These ', 'A\\n', 'Where ', 'S\\n', 'All ', 'With ', 'Pindarus ', 'A\\n', 'Is ', 'S\\n', 'He ', 'O ', 'A\\n', 'Is ', 'S\\n', 'But ', 'Cassius ', 'O ', 'As ', 'So ', 'The ', 'Rome ', 'Our ', 'Mistrust ', 'A\\n', 'Mistrust ', 'O ', 'Why ', 'The ', 'O ', 'Thou ', 'But ', 'S\\n', 'A\\n', 'Seek ', 'I ', 'The ', 'Into ', 'I ', 'For ', 'Shall ', 'Brutus\\n', 'As ', 'S\\n', 'Hie ', 'And ', 'I ', 'Pindarus ', 'Exit ', 'A\\n', 'Why ', 'Did ', 'I ', 'Put ', 'And ', 'Didst ', 'Thy ', 'Brutus ', 'I\\n', 'Will ', 'And ', 'I ', 'Caius ', 'By ', 'Kills ', 'S\\n', 'S\\n', 'A\\n', 'Titinius ', 'S\\n', 'O\\n', 'He ', 'S\\n', 'O ', 'Julius ', 'Thy ', 'In ', 'Low ', 'O\\n', 'Brave ', 'S\\n', 'Are ', 'Romans ', 'The ', 'It ', 'Rome\\n', 'Should ', 'I ', 'To ', 'I ', 'I ', 'Thasos ', 'His ', 'Lest ', 'And ', 'Labeo ', 'Tis ', 'We ', 'Exeunt\\n', 'E ', 'Another ', 'Enter ', 'Soldiers ', 'S\\n', 'O\\n', 'What ', 'Who ', 'I ', 'I ', 'Marcus ', 'A ', 'I ', 'Marcus ', 'S\\n', 'And ', 'I ', 'Marcus ', 'Exit\\n', 'S\\n', 'O ', 'And ', 'First ', 'Soldier\\n', 'S\\n', 'Only ', 'I ', 'There ', 'Offering ', 'Kill ', 'First ', 'Soldier\\n', 'We ', 'A ', 'Second ', 'Soldier\\n', 'Tell ', 'Brutus ', 'First ', 'Soldier\\n', 'Here ', 'Enter ', 'Y\\n', 'Brutus ', 'Brutus ', 'Y\\n', 'Where ', 'S\\n', 'Brutus ', 'I ', 'Shall ', 'The ', 'When ', 'He ', 'Y\\n', 'This ', 'I ', 'A ', 'Give ', 'I ', 'Such ', 'Go ', 'And ', 'Brutus ', 'And ', 'How ', 'Exeunt\\n', 'E ', 'Another ', 'Enter ', 'S\\n', 'S\\n', 'S\\n', 'Statilius ', 'He ', 'S\\n', 'Sit ', 'It ', 'Hark ', 'Whispers\\n', 'S\\n', 'S\\n', 'Peace ', 'S\\n', 'S\\n', 'Hark ', 'Whispers\\n', 'S\\n', 'Shall ', 'I ', 'S\\n', 'O ', 'S\\n', 'O ', 'S\\n', 'What ', 'Brutus ', 'S\\n', 'To ', 'S\\n', 'Now ', 'That ', 'S\\n', 'Come ', 'S\\n', 'What ', 'S\\n', 'The ', 'Caesar ', 'Two ', 'Sardis ', 'Philippi ', 'I ', 'S\\n', 'Not ', 'S\\n', 'I ', 'Thou ', 'Our ', 'Low ', 'It ', 'Than ', 'Good ', 'Thou ', 'Even ', 'I ', 'Hold ', 'I ', 'S\\n', 'Alarum ', 'S\\n', 'S\\n', 'Farewell ', 'Farewell ', 'My ', 'I ', 'I ', 'More ', 'Octavius ', 'Mark ', 'Antony\\n', 'By ', 'So ', 'Hath ', 'Night ', 'That ', 'Cry ', 'S\\n', 'S\\n', 'I ', 'Exeunt ', 'S\\n', 'I ', 'Thou ', 'Thy ', 'Hold ', 'While ', 'I ', 'Wilt ', 'O\\n', 'Give ', 'Fare ', 'S\\n', 'Runs ', 'I ', 'Dies\\n', 'Enter ', 'S\\n', 'What ', 'A\\n', 'My ', 'O\\n', 'Free ', 'The ', 'For ', 'Brutus ', 'And ', 'S\\n', 'So ', 'Brutus ', 'I ', 'That ', 'S\\n', 'All ', 'I ', 'O\\n', 'Messala ', 'S\\n', 'Do ', 'A\\n', 'How ', 'O\\n', 'I ', 'A\\n', 'That ', 'Y\\n', 'This ', 'Roman ', 'All ', 'Did ', 'He ', 'And ', 'His ', 'So ', 'Nature ', 'And ', 'This ', 'S\\n', 'According ', 'With ', 'Within ', 'Most ', 'So ', 'To ']\n",
            "Words with first letter capitalized appears:  4127\n"
          ],
          "name": "stdout"
        }
      ]
    },
    {
      "cell_type": "markdown",
      "metadata": {
        "id": "51w47yVX8Uhq"
      },
      "source": [
        "4. Write a regular expression using groups in Python that extracts all phrases that have\r\n",
        "“son of ” and extract/output the answer in a case-insensitive way. For example, for the\r\n",
        "following “I am the son of earth”, should find “son of earth” and extract/output “earth”.\r\n",
        "(20 points)\r\n"
      ]
    },
    {
      "cell_type": "code",
      "metadata": {
        "colab": {
          "base_uri": "https://localhost:8080/"
        },
        "id": "B4Ap0KLZ8XTr",
        "outputId": "99833f12-fca0-4a1c-f215-8af2a604230c"
      },
      "source": [
        "sonOfPhrases = re.compile(\"([sS]on\\sof\\s([a-zA-Z]+))\")\r\n",
        "findSonOfPhrases = re.findall(sonOfPhrases, content)\r\n",
        "print(findSonOfPhrases)"
      ],
      "execution_count": 15,
      "outputs": [
        {
          "output_type": "stream",
          "text": [
            "[('son of Rome', 'Rome'), ('son of the', 'the'), ('son of Caesar', 'Caesar'), ('son of our', 'our'), ('son of Marcus', 'Marcus'), ('son of Marcus', 'Marcus')]\n"
          ],
          "name": "stdout"
        }
      ]
    },
    {
      "cell_type": "markdown",
      "metadata": {
        "id": "IXV6Rzsd8dRN"
      },
      "source": [
        "5. Plays are divided in acts, write a regular expression using groups in Python that\r\n",
        "extracts the number of each act found in this play in a case-sensitive way. (20 points)"
      ]
    },
    {
      "cell_type": "code",
      "metadata": {
        "colab": {
          "base_uri": "https://localhost:8080/"
        },
        "id": "YAeU9WFWO0OO",
        "outputId": "da5d2d8a-813c-4e08-879c-942673a64fc5"
      },
      "source": [
        "findActs = re.compile(\"\\nACT\\s(I*V*X*)\")\r\n",
        "findAct = re.findall(findActs, content)\r\n",
        "print(findAct)"
      ],
      "execution_count": null,
      "outputs": [
        {
          "output_type": "stream",
          "text": [
            "['I', 'II', 'III', 'IV', 'V']\n"
          ],
          "name": "stdout"
        }
      ]
    },
    {
      "cell_type": "markdown",
      "metadata": {
        "id": "NK9ETrsvTtDI"
      },
      "source": [
        "6. Write a Python function that takes the file as an input and outputs how many lines end\r\n",
        "with: ? , that is a question mark at the end of the line. This function needs to use a\r\n",
        "regular expression. (20 points)"
      ]
    },
    {
      "cell_type": "code",
      "metadata": {
        "colab": {
          "base_uri": "https://localhost:8080/"
        },
        "id": "TKVf-gfBYQY_",
        "outputId": "5bdf047d-80a8-4d8a-f8ca-f6bfd797a49b"
      },
      "source": [
        "linesEndingQ = re.compile(\"[a-zA-Z]*\\s*\\\\?\\n\")\r\n",
        "findLinesEndingQ = re.findall(linesEndingQ, content)\r\n",
        "print(\"Number of lines ending with ?: \", len(findLinesEndingQ))"
      ],
      "execution_count": 16,
      "outputs": [
        {
          "output_type": "stream",
          "text": [
            "Number of lines ending with ?:  215\n"
          ],
          "name": "stdout"
        }
      ]
    },
    {
      "cell_type": "markdown",
      "metadata": {
        "id": "x54NA69HZmri"
      },
      "source": [
        "7. Using the code from Class 04, train a Random Forest classification model for the same two newsgroups, generate the confusion matrix, and all the same performance metrics.\r\n",
        "(50 points)\r\n"
      ]
    },
    {
      "cell_type": "code",
      "metadata": {
        "id": "lSSiKqIU9Wh9"
      },
      "source": [
        "%matplotlib inline\n",
        "import numpy as np\n",
        "import matplotlib.pyplot as plt\n",
        "import seaborn as sns; sns.set()"
      ],
      "execution_count": 1,
      "outputs": []
    },
    {
      "cell_type": "code",
      "metadata": {
        "deletable": true,
        "editable": true,
        "id": "KAonIo1YViBu",
        "colab": {
          "base_uri": "https://localhost:8080/"
        },
        "outputId": "7763282a-f62d-45d1-9051-5a609b49f2e9"
      },
      "source": [
        "from sklearn.datasets import fetch_20newsgroups\n",
        "\n",
        "data = fetch_20newsgroups()\n",
        "data.target_names"
      ],
      "execution_count": 2,
      "outputs": [
        {
          "output_type": "stream",
          "text": [
            "Downloading 20news dataset. This may take a few minutes.\n",
            "Downloading dataset from https://ndownloader.figshare.com/files/5975967 (14 MB)\n"
          ],
          "name": "stderr"
        },
        {
          "output_type": "execute_result",
          "data": {
            "text/plain": [
              "['alt.atheism',\n",
              " 'comp.graphics',\n",
              " 'comp.os.ms-windows.misc',\n",
              " 'comp.sys.ibm.pc.hardware',\n",
              " 'comp.sys.mac.hardware',\n",
              " 'comp.windows.x',\n",
              " 'misc.forsale',\n",
              " 'rec.autos',\n",
              " 'rec.motorcycles',\n",
              " 'rec.sport.baseball',\n",
              " 'rec.sport.hockey',\n",
              " 'sci.crypt',\n",
              " 'sci.electronics',\n",
              " 'sci.med',\n",
              " 'sci.space',\n",
              " 'soc.religion.christian',\n",
              " 'talk.politics.guns',\n",
              " 'talk.politics.mideast',\n",
              " 'talk.politics.misc',\n",
              " 'talk.religion.misc']"
            ]
          },
          "metadata": {
            "tags": []
          },
          "execution_count": 2
        }
      ]
    },
    {
      "cell_type": "code",
      "metadata": {
        "deletable": true,
        "editable": true,
        "id": "klCIgwI2fUoM"
      },
      "source": [
        "categories = ['rec.autos','comp.graphics']\n",
        "train = fetch_20newsgroups(subset='train', categories=categories)\n",
        "test = fetch_20newsgroups(subset='test', categories=categories)"
      ],
      "execution_count": 3,
      "outputs": []
    },
    {
      "cell_type": "code",
      "metadata": {
        "id": "2Z9jYmWdhYm8"
      },
      "source": [
        "from sklearn.feature_extraction.text import TfidfVectorizer\r\n",
        "from sklearn.ensemble import RandomForestClassifier\r\n",
        "model = make_pipeline(TfidfVectorizer(), RandomForestClassifier())\r\n",
        "model.fit(train.data, train.target)\r\n",
        "labels = model.predict(test.data)"
      ],
      "execution_count": 7,
      "outputs": []
    },
    {
      "cell_type": "code",
      "metadata": {
        "deletable": true,
        "editable": true,
        "id": "huEc1O3UVoPF"
      },
      "source": [
        "model.fit(train.data, train.target)\n",
        "labels = model.predict(test.data)"
      ],
      "execution_count": 8,
      "outputs": []
    },
    {
      "cell_type": "code",
      "metadata": {
        "deletable": true,
        "editable": true,
        "id": "gpFQTjLjVoPH",
        "colab": {
          "base_uri": "https://localhost:8080/",
          "height": 285
        },
        "outputId": "bc2af935-ca8c-46c8-a383-e37eb307f83a"
      },
      "source": [
        "from sklearn.metrics import confusion_matrix\n",
        "mat = confusion_matrix(test.target, labels)\n",
        "sns.heatmap(mat.T, square=True, annot=True, fmt='d', cbar=False,\n",
        "            xticklabels=train.target_names, yticklabels=train.target_names)\n",
        "plt.xlabel('true label')\n",
        "plt.ylabel('predicted label');"
      ],
      "execution_count": 9,
      "outputs": [
        {
          "output_type": "display_data",
          "data": {
            "image/png": "[encoded data removed]",
            "text/plain": [
              "<Figure size 432x288 with 1 Axes>"
            ]
          },
          "metadata": {
            "tags": [],
            "needs_background": "light"
          }
        }
      ]
    },
    {
      "cell_type": "code",
      "metadata": {
        "id": "-gXz_LpDVoPJ",
        "colab": {
          "base_uri": "https://localhost:8080/"
        },
        "outputId": "a20cd80a-8ceb-4bdd-991f-a8fd5661aa13"
      },
      "source": [
        "import sklearn.metrics\n",
        "print('Accuracy:', sklearn.metrics.accuracy_score(test.target,labels))\n",
        "print('Precision:', sklearn.metrics.precision_score(test.target,labels))\n",
        "print('Recall:', sklearn.metrics.recall_score(test.target,labels))\n",
        "print('F1 Score:', sklearn.metrics.f1_score(labels, test.target, average='macro'))\n",
        "print('Mean Absolute Error:', sklearn.metrics.mean_absolute_error(test.target,labels))\n",
        "print('Mean Squared Error:', sklearn.metrics.mean_squared_error(test.target, labels))  \n",
        "print('Root Mean Squared Error:', np.sqrt(sklearn.metrics.mean_squared_error(test.target, labels)))\n"
      ],
      "execution_count": 11,
      "outputs": [
        {
          "output_type": "stream",
          "text": [
            "Accuracy: 0.9159235668789809\n",
            "Precision: 0.927461139896373\n",
            "Recall: 0.9040404040404041\n",
            "F1 Score: 0.9159223389201188\n",
            "Mean Absolute Error: 0.0840764331210191\n",
            "Mean Squared Error: 0.0840764331210191\n",
            "Root Mean Squared Error: 0.2899593646030752\n"
          ],
          "name": "stdout"
        }
      ]
    },
    {
      "cell_type": "markdown",
      "metadata": {
        "id": "iFzHrmlRXydI"
      },
      "source": [
        "Bonus (15 points): Using the code from Class 04. Write a function to find the best\r\n",
        "performing model for the TF-IDF vectorization. The requirements for this are: 1) Pass all\r\n",
        "metrics for each model in a single dataframe (each row has a metric value, each column\r\n",
        "is a model type). 2) Make the decision of the best model by counting which column has\r\n",
        "the highest F1-score and accuracy."
      ]
    },
    {
      "cell_type": "code",
      "metadata": {
        "id": "b2ShFW9lX0ks"
      },
      "source": [
        "import pandas as pd\r\n",
        "import numpy as np\r\n",
        "\r\n",
        "# I collected groups of tf_idf_values per model, each group is (Accuracy, Precision, .... F1 Score, etc) 0:MNB, 1:P, 2:LR\r\n",
        "def findBestPerfModel(tf_idf_values):\r\n",
        "# I then reordered the pairs into 7 rows: (MNB, P, and LR) - 0: Accuracy, 1: precision, etc. \r\n",
        "  values= []\r\n",
        "  for row in range(3):\r\n",
        "    row = []\r\n",
        "    for col in range(7):\r\n",
        "      row.append(tf_idf_values[col][row])\r\n",
        "    values.append(row)\r\n",
        "  values = [[tf_idf_values[0][0], tf_idf_values[1][0], tf_idf_values[2][0]], [tf_idf_values[0][1], tf_idf_values[1][1], tf_idf_values[2][1]], [tf_idf_values[0][1], tf_idf_values[1][1], tf_idf_values[2][1]], [tf_idf_values[0][1], tf_idf_values[1][1], tf_idf_values[2][1]], [tf_idf_values[0][1], tf_idf_values[1][1], tf_idf_values[2][1]], [tf_idf_values[0][1], tf_idf_values[1][1], tf_idf_values[2][1]], [tf_idf_values[0][1], tf_idf_values[1][1], tf_idf_values[2][1]]]\r\n",
        "  # After googling about dataFrame in python I found that pandas and numpy were used so I imported them\r\n",
        "  tf_idf_df = pd.DataFrame(np.array(values), columns=[\"Multinomial Naive Bayes\", \"Perceptron\", \"Logistic Regression\"], index=[\"Accuracy\", \"Precision\", \"Recall\", \"F1 Score\", \"Mean Absolute Error\", \"Mean Squared Error\", \"Root Mean Squared Error\"])\r\n",
        "  tf_idf_df.idxmax(axis=1)\r\n",
        "  print(\"Model with max value for Accuracy:\")\r\n",
        "  print(tf_idf_df.idxmax(axis=1)[\"Accuracy\"])\r\n",
        "  print(\"Model with max value for F1 Score:\")\r\n",
        "  print(tf_idf_df.idxmax(axis=1)[\"F1 Score\"])\r\n"
      ],
      "execution_count": null,
      "outputs": []
    }
  ]
}