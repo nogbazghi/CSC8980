{
  "nbformat": 4,
  "nbformat_minor": 0,
  "metadata": {
    "colab": {
      "name": "Homework1.ipynb",
      "provenance": [],
      "authorship_tag": "ABX9TyM12IsVZN21Fbu9dJHkUAwg",
      "include_colab_link": true
    },
    "kernelspec": {
      "name": "python3",
      "display_name": "Python 3"
    }
  },
  "cells": [
    {
      "cell_type": "markdown",
      "metadata": {
        "id": "view-in-github",
        "colab_type": "text"
      },
      "source": [
        "<a href=\"https://colab.research.google.com/github/nogbazghi/CSC8980/blob/main/Homework1.ipynb\" target=\"_parent\"><img src=\"https://colab.research.google.com/assets/colab-badge.svg\" alt=\"Open In Colab\"/></a>"
      ]
    },
    {
      "cell_type": "code",
      "metadata": {
        "id": "6-H__KPa9Qci"
      },
      "source": [
        ""
      ],
      "execution_count": null,
      "outputs": []
    },
    {
      "cell_type": "markdown",
      "metadata": {
        "id": "EkejHdSPb96H"
      },
      "source": [
        "Nahom Ogbazghi\r\n",
        "022052292"
      ]
    },
    {
      "cell_type": "markdown",
      "metadata": {
        "id": "yZJAVLA79fDZ"
      },
      "source": [
        "Write a function that finds the factorial of a number. Test the function finding the factorial of the number 10."
      ]
    },
    {
      "cell_type": "code",
      "metadata": {
        "colab": {
          "base_uri": "https://localhost:8080/"
        },
        "id": "-sOaS6eO_SDB",
        "outputId": "7b4a316a-f8e1-4dc8-9713-7ea04e9fa266"
      },
      "source": [
        "number = 10\r\n",
        "def findFactorial(num):\r\n",
        "  factorial = 1\r\n",
        "  for digit in range(1, num):\r\n",
        "    factorial = factorial * digit\r\n",
        "  print(\"factorial: \" + str(factorial))\r\n",
        "  return factorial\r\n",
        "findFactorial(number)"
      ],
      "execution_count": 2,
      "outputs": [
        {
          "output_type": "stream",
          "text": [
            "factorial: 362880\n"
          ],
          "name": "stdout"
        },
        {
          "output_type": "execute_result",
          "data": {
            "text/plain": [
              "362880"
            ]
          },
          "metadata": {
            "tags": []
          },
          "execution_count": 2
        }
      ]
    },
    {
      "cell_type": "markdown",
      "metadata": {
        "id": "o6n7crby9ilM"
      },
      "source": [
        "Write a function that determines if a number is a prime number. Test the function with the following numbers: 3 and 1251."
      ]
    },
    {
      "cell_type": "code",
      "metadata": {
        "colab": {
          "base_uri": "https://localhost:8080/"
        },
        "id": "Fnpb0QJAAQT9",
        "outputId": "1cb401c3-d6e2-4758-e9f3-664c862135cc"
      },
      "source": [
        "\r\n",
        "numbers = [3, 1251]\r\n",
        "def checkIfPrime(number):\r\n",
        "  isItPrime = True\r\n",
        "  for digit in range(2, number-1):\r\n",
        "    if number%digit == 0:\r\n",
        "      isItPrime = False\r\n",
        "  return isItPrime\r\n",
        "\r\n",
        "for number in numbers:\r\n",
        "  value = checkIfPrime(number)\r\n",
        "  print(str(number) + \" is prime? \" + str(value))"
      ],
      "execution_count": 8,
      "outputs": [
        {
          "output_type": "stream",
          "text": [
            "3 is prime? True\n",
            "1251 is prime? False\n"
          ],
          "name": "stdout"
        }
      ]
    },
    {
      "cell_type": "markdown",
      "metadata": {
        "id": "RX4i3pUI-2NO"
      },
      "source": [
        "Write a function that transposes a matrix. Test with a 3 x 3 identity matrix."
      ]
    },
    {
      "cell_type": "code",
      "metadata": {
        "id": "guFuT7-ZFAWb",
        "colab": {
          "base_uri": "https://localhost:8080/"
        },
        "outputId": "63e4691f-c9bc-4163-b9c9-2658f2bdac58"
      },
      "source": [
        "matrix = [[7, 7, 0], [6, 7, 8], [4, 0, 4]]\r\n",
        "def transposeMatrix(matrix):\r\n",
        "  transposed_matrix = []\r\n",
        "  for row in matrix:\r\n",
        "    for index in range(0, len(row)):\r\n",
        "      digit = row[index]\r\n",
        "      if len(transposed_matrix) < len(row):\r\n",
        "        transposed_matrix.append([digit])\r\n",
        "      else:\r\n",
        "        updateList = transposed_matrix[index]\r\n",
        "        updateList.append(digit)\r\n",
        "        transposed_matrix[index] = updateList\r\n",
        "  return transposed_matrix\r\n",
        "print(transposeMatrix(matrix))\r\n",
        "    "
      ],
      "execution_count": 11,
      "outputs": [
        {
          "output_type": "stream",
          "text": [
            "[[7, 6, 4], [7, 7, 0], [0, 8, 4]]\n"
          ],
          "name": "stdout"
        }
      ]
    },
    {
      "cell_type": "markdown",
      "metadata": {
        "id": "4BOYVkfR-6Is"
      },
      "source": [
        "Using Pandas and Numpy, write a piece of code to combine two series into one. Test your code with:\r\n",
        "\r\n",
        "*   np.random.seed(0)\r\n",
        "*   series1 = pd.Series(np.arange(10))\r\n",
        "*   series2 = pd.Series(np.arange(26))\r\n",
        "\r\n",
        "Do not forget to set the seed, or your answer won’t be reproducible.\r\n"
      ]
    },
    {
      "cell_type": "code",
      "metadata": {
        "colab": {
          "base_uri": "https://localhost:8080/"
        },
        "id": "72jFfPnmEk8q",
        "outputId": "24d4cbd9-b08b-433d-9a12-dfa54fa7b1ed"
      },
      "source": [
        "import pandas as pd\r\n",
        "import numpy as np\r\n",
        "\r\n",
        "series1 = pd.Series(np.arange(10))\r\n",
        "series2 = pd.Series(np.arange(26))\r\n",
        "def combineSeries(seed, one, two):\r\n",
        "  np.random.seed(seed)\r\n",
        "  newseries = one.combine_first(two)\r\n",
        "  return newseries\r\n",
        "\r\n",
        "print(combineSeries(0, series1, series2))"
      ],
      "execution_count": 14,
      "outputs": [
        {
          "output_type": "stream",
          "text": [
            "0      0.0\n",
            "1      1.0\n",
            "2      2.0\n",
            "3      3.0\n",
            "4      4.0\n",
            "5      5.0\n",
            "6      6.0\n",
            "7      7.0\n",
            "8      8.0\n",
            "9      9.0\n",
            "10    10.0\n",
            "11    11.0\n",
            "12    12.0\n",
            "13    13.0\n",
            "14    14.0\n",
            "15    15.0\n",
            "16    16.0\n",
            "17    17.0\n",
            "18    18.0\n",
            "19    19.0\n",
            "20    20.0\n",
            "21    21.0\n",
            "22    22.0\n",
            "23    23.0\n",
            "24    24.0\n",
            "25    25.0\n",
            "dtype: float64\n"
          ],
          "name": "stdout"
        }
      ]
    },
    {
      "cell_type": "markdown",
      "metadata": {
        "id": "0KyYeouI9Suw"
      },
      "source": [
        ""
      ]
    },
    {
      "cell_type": "markdown",
      "metadata": {
        "id": "4FTXH0MIgMMQ"
      },
      "source": [
        "Using pandas, write a piece of code to convert the first character of each element in a series to uppercase. Test your code with:\r\n",
        "*   series = pd.Series(['nlp', 'will', 'be', 'easy?'])\r\n",
        "\r\n"
      ]
    },
    {
      "cell_type": "code",
      "metadata": {
        "colab": {
          "base_uri": "https://localhost:8080/"
        },
        "id": "MJFEzd5lggkJ",
        "outputId": "f16d47b1-ab10-4130-be45-c663e3a5e125"
      },
      "source": [
        "import pandas as pd\r\n",
        "\r\n",
        "series = pd.Series(['nlp', 'will', 'be', 'easy?'])\r\n",
        "capitalized = series.str.capitalize()\r\n",
        "print(capitalized)"
      ],
      "execution_count": 13,
      "outputs": [
        {
          "output_type": "stream",
          "text": [
            "0      Nlp\n",
            "1     Will\n",
            "2       Be\n",
            "3    Easy?\n",
            "dtype: object\n"
          ],
          "name": "stdout"
        }
      ]
    },
    {
      "cell_type": "markdown",
      "metadata": {
        "id": "TVNqpDm9ro2q"
      },
      "source": [
        "Bonus: Using pandas, write a piece of code to get the frequency of unique values in the\r\n",
        "entire dataframe (not using built in functions). Test your code with:\r\n",
        "*   dataFrame = pd.DataFrame(np.random.randint(5, 10, 20).reshape(-1, 4), columns = list('abcd'))"
      ]
    },
    {
      "cell_type": "code",
      "metadata": {
        "colab": {
          "base_uri": "https://localhost:8080/"
        },
        "id": "TeCSMByir7qo",
        "outputId": "7651df71-7090-406c-85c6-436ba8cd898b"
      },
      "source": [
        "import pandas as pd\r\n",
        "import numpy as np\r\n",
        "import matplotlib.pyplot as plt\r\n",
        "\r\n",
        "dataFrame = pd.DataFrame(np.random.randint(5, 10, 20).reshape(-1, 4), columns = list('abcd'))\r\n",
        "def uniqueValueFrequency(df):\r\n",
        "  cols = df.columns.values\r\n",
        "  rows = df.index.values\r\n",
        "  uniqueValue = dict()\r\n",
        "  for col in cols:\r\n",
        "    items = df[col]\r\n",
        "    for row in rows:\r\n",
        "      digit = items[row]\r\n",
        "      if digit in uniqueValue.keys():\r\n",
        "        updatedCount = uniqueValue[digit] + 1\r\n",
        "        uniqueValue[digit] = updatedCount\r\n",
        "      else:\r\n",
        "        uniqueValue[digit] = 1\r\n",
        "  return uniqueValue\r\n",
        "print(uniqueValueFrequency(dataFrame))"
      ],
      "execution_count": 30,
      "outputs": [
        {
          "output_type": "stream",
          "text": [
            "{8: 5, 7: 2, 5: 7, 6: 2, 9: 4}\n"
          ],
          "name": "stdout"
        }
      ]
    }
  ]
}